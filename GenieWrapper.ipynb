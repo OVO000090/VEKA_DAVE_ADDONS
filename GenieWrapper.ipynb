{
  "cells": [
    {
      "cell_type": "markdown",
      "source": [
        "## Set Spark Configuration"
      ],
      "metadata": {
        "nteract": {
          "transient": {
            "deleting": false
          }
        }
      }
    },
    {
      "cell_type": "code",
      "source": [
        "%%configure\r\n",
        "// Sample Spark Configuration\r\n",
        "{\r\n",
        "    // You can get a list of valid parameters to config the session from https://github.com/cloudera/livy#request-body.\r\n",
        "    \"driverMemory\":\r\n",
        "    {\r\n",
        "        \"activityParameterName\": \"driverMemoryParameter\", \r\n",
        "        \"defaultValue\": \"56g\"\r\n",
        "    }, // Recommended values: [\"28g\", \"56g\", \"112g\", \"224g\", \"400g\", \"472g\"]\r\n",
        "    \"driverCores\":{\r\n",
        "        \"activityParameterName\": \"driverCoresParameter\", \r\n",
        "        \"defaultValue\": 8\r\n",
        "    }, // Recommended values: [4, 8, 16, 32, 64, 80]\r\n",
        "    \"executorMemory\":{\r\n",
        "        \"activityParameterName\": \"executorMemoryParameter\", \r\n",
        "        \"defaultValue\": \"56g\" \r\n",
        "    },\r\n",
        "    \"executorCores\":{\r\n",
        "        \"activityParameterName\": \"executorCoresParameter\", \r\n",
        "        \"defaultValue\": 8 \r\n",
        "    },\r\n",
        "    \"numExecutors\":{\r\n",
        "        \"activityParameterName\": \"numExecutorsParameter\", \r\n",
        "        \"defaultValue\": 3\r\n",
        "    }\r\n",
        "}"
      ],
      "outputs": [],
      "execution_count": null,
      "metadata": {
        "jupyter": {
          "source_hidden": false,
          "outputs_hidden": false
        },
        "nteract": {
          "transient": {
            "deleting": false
          }
        }
      }
    },
    {
      "cell_type": "markdown",
      "source": [
        "## Creating Global Views "
      ],
      "metadata": {
        "nteract": {
          "transient": {
            "deleting": false
          }
        }
      }
    },
    {
      "cell_type": "code",
      "source": [
        "# Placeholder for creating global views so they can be accessed by all notebooks"
      ],
      "outputs": [],
      "execution_count": null,
      "metadata": {
        "jupyter": {
          "source_hidden": false
        }
      }
    },
    {
      "cell_type": "markdown",
      "source": [
        "# Calling the framework"
      ],
      "metadata": {
        "nteract": {
          "transient": {
            "deleting": false
          }
        }
      }
    },
    {
      "cell_type": "code",
      "source": [
        "import SynapseGenie"
      ],
      "outputs": [],
      "execution_count": null,
      "metadata": {
        "jupyter": {
          "source_hidden": false,
          "outputs_hidden": false
        },
        "nteract": {
          "transient": {
            "deleting": false
          }
        }
      }
    },
    {
      "cell_type": "code",
      "source": [
        "from SynapseGenie import genie_process_execution"
      ],
      "outputs": [],
      "execution_count": null,
      "metadata": {
        "jupyter": {
          "source_hidden": false,
          "outputs_hidden": false
        },
        "nteract": {
          "transient": {
            "deleting": false
          }
        }
      }
    },
    {
      "cell_type": "markdown",
      "source": [
        "# Parameters"
      ],
      "metadata": {
        "nteract": {
          "transient": {
            "deleting": false
          }
        }
      }
    },
    {
      "cell_type": "markdown",
      "source": [
        "The following parameters can be passed through a Synapse/ADF pipeline\r\n",
        "- state -> Denotes whether the framework should start from the beginning or restart from where it failed. Takes either of the two values - \"start\" and \"restart\" \\<String>\r\n",
        "- pipeline -> Name of the pipeline to be run in the framework. Case-sensitive and should be in the metadata table. \\<String>"
      ],
      "metadata": {
        "nteract": {
          "transient": {
            "deleting": false
          }
        }
      }
    },
    {
      "cell_type": "code",
      "source": [
        "state = \"start\"\r\n",
        "pipeline = \"sample_pipeline\""
      ],
      "outputs": [],
      "execution_count": null,
      "metadata": {
        "jupyter": {
          "source_hidden": false,
          "outputs_hidden": false
        },
        "nteract": {
          "transient": {
            "deleting": false
          }
        },
        "tags": [
          "parameters"
        ]
      }
    },
    {
      "cell_type": "markdown",
      "source": [
        "- threads -> The maximum number of notebooks that can be run together in a pipeline or sub-pipeline. By default value is set to number of executor cores available. \\<integer>\r\n"
      ],
      "metadata": {
        "nteract": {
          "transient": {
            "deleting": false
          }
        }
      }
    },
    {
      "cell_type": "code",
      "source": [
        "# By default threads is set equal to the number of executor cores. \"threads\" variable can be tuned to a particular number depending on requirements\r\n",
        "import os\r\n",
        "threads = (sc._jsc.sc().getExecutorMemoryStatus().keySet().size()-1)*os.cpu_count() "
      ],
      "outputs": [],
      "execution_count": null,
      "metadata": {
        "jupyter": {
          "source_hidden": false,
          "outputs_hidden": false
        },
        "nteract": {
          "transient": {
            "deleting": false
          }
        }
      }
    },
    {
      "cell_type": "markdown",
      "source": [
        "## Instantiating and Executing the framework"
      ],
      "metadata": {
        "nteract": {
          "transient": {
            "deleting": false
          }
        }
      }
    },
    {
      "cell_type": "code",
      "source": [
        "genie_obj = genie_process_execution.Genie(spark,mssparkutils.notebook,threads) #Creating the object of framework"
      ],
      "outputs": [],
      "execution_count": null,
      "metadata": {
        "jupyter": {
          "source_hidden": false,
          "outputs_hidden": false
        },
        "nteract": {
          "transient": {
            "deleting": false
          }
        }
      }
    },
    {
      "cell_type": "code",
      "source": [
        "genie_obj.execute(state,pipeline)"
      ],
      "outputs": [],
      "execution_count": null,
      "metadata": {
        "jupyter": {
          "source_hidden": false,
          "outputs_hidden": false
        },
        "nteract": {
          "transient": {
            "deleting": false
          }
        }
      }
    },
    {
      "cell_type": "markdown",
      "source": [
        "### View Metadata"
      ],
      "metadata": {
        "nteract": {
          "transient": {
            "deleting": false
          }
        }
      }
    },
    {
      "cell_type": "code",
      "source": [
        "%%sql\r\n",
        "select * from genie.metadata"
      ],
      "outputs": [],
      "execution_count": null,
      "metadata": {
        "jupyter": {
          "source_hidden": false,
          "outputs_hidden": false
        },
        "nteract": {
          "transient": {
            "deleting": false
          }
        },
        "microsoft": {
          "language": "sparksql"
        }
      }
    },
    {
      "cell_type": "markdown",
      "source": [
        "### Visualizing the Graph"
      ],
      "metadata": {
        "nteract": {
          "transient": {
            "deleting": false
          }
        }
      }
    },
    {
      "cell_type": "code",
      "source": [
        "# if not present in requirements.yml file for pool, run the following commands, otherwise proceed to the next cell\r\n",
        "# conda install -y graphviz \r\n",
        "# pip install pydot\r\n",
        "# pip install graphviz"
      ],
      "outputs": [],
      "execution_count": null,
      "metadata": {
        "jupyter": {
          "source_hidden": false,
          "outputs_hidden": false
        },
        "nteract": {
          "transient": {
            "deleting": false
          }
        }
      }
    },
    {
      "cell_type": "code",
      "source": [
        "# import graphviz\r\n",
        "# import pydot\r\n",
        "# from IPython.display import display\r\n",
        "\r\n",
        "# obj.visualizeGraph(pipeline)"
      ],
      "outputs": [],
      "execution_count": null,
      "metadata": {
        "jupyter": {
          "source_hidden": false,
          "outputs_hidden": false
        },
        "nteract": {
          "transient": {
            "deleting": false
          }
        }
      }
    },
    {
      "cell_type": "code",
      "source": [
        "mssparkutils.notebook.exit()"
      ],
      "outputs": [],
      "execution_count": null,
      "metadata": {
        "jupyter": {
          "source_hidden": false,
          "outputs_hidden": false
        },
        "nteract": {
          "transient": {
            "deleting": false
          }
        }
      }
    }
  ],
  "metadata": {
    "kernelspec": {
      "name": "synapse_pyspark",
      "language": "Python",
      "display_name": "Synapse PySpark"
    },
    "language_info": {
      "name": "python"
    },
    "kernel_info": {
      "name": "synapse_pyspark"
    },
    "save_output": true,
    "synapse_widget": {
      "version": "0.1",
      "state": {}
    }
  },
  "nbformat": 4,
  "nbformat_minor": 2
}