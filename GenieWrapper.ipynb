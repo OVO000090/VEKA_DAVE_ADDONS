{
  "cells": [
    {
      "cell_type": "code",
      "source": [
        "pipeline = \"\"\r\n",
        "\r\n",
        "# By default, state is an empty string\r\n",
        "# If running from notebook, state will be set to start by default. If running from pipeline, state will be set to restart by default\r\n",
        "# To explicitly start or restart, state can be set to \"start\" or \"restart\" value\r\n",
        "state = \"\"\r\n",
        "\r\n",
        "# triggerType and runID are variables set by the pipeline. No need to pass any parameter from the user side \r\n",
        "triggerType = \"\"\r\n",
        "runID = \"\""
      ],
      "outputs": [],
      "execution_count": null,
      "metadata": {
        "jupyter": {
          "source_hidden": false,
          "outputs_hidden": false
        },
        "nteract": {
          "transient": {
            "deleting": false
          }
        },
        "tags": [
          "parameters"
        ]
      }
    },
    {
      "cell_type": "code",
      "source": [
        "# By default threads is set equal to the number of executor cores. \"threads\" variable can be tuned to a particular number depending on requirements\r\n",
        "import os\r\n",
        "threads = (sc._jsc.sc().getExecutorMemoryStatus().keySet().size()-1)*os.cpu_count() \r\n",
        "\r\n",
        "# notebook will timeout if a code cell takes more time than this parameter\r\n",
        "cellTimeoutInSeconds = 1800 "
      ],
      "outputs": [],
      "execution_count": null,
      "metadata": {
        "jupyter": {
          "source_hidden": false,
          "outputs_hidden": false
        },
        "nteract": {
          "transient": {
            "deleting": false
          }
        }
      }
    },
    {
      "cell_type": "code",
      "source": [
        "from geniepackage import genie_process_execution\r\n",
        "\r\n",
        "obj = genie_process_execution.Genie(spark,mssparkutils.notebook,threads,cellTimeoutInSeconds)"
      ],
      "outputs": [],
      "execution_count": null,
      "metadata": {
        "jupyter": {
          "source_hidden": false,
          "outputs_hidden": false
        },
        "nteract": {
          "transient": {
            "deleting": false
          }
        }
      }
    },
    {
      "cell_type": "markdown",
      "source": [
        "### Uncomment below box to see Metadata graph"
      ],
      "metadata": {
        "nteract": {
          "transient": {
            "deleting": false
          }
        }
      }
    },
    {
      "cell_type": "code",
      "source": [
        "# # if not present in requirements.yml file for pool, run the following commands, otherwise proceed to the next cell\r\n",
        "# conda install -y graphviz \r\n",
        "# pip install pydot\r\n",
        "# pip install graphviz"
      ],
      "outputs": [],
      "execution_count": null,
      "metadata": {
        "jupyter": {
          "source_hidden": false,
          "outputs_hidden": false
        },
        "nteract": {
          "transient": {
            "deleting": false
          }
        }
      }
    },
    {
      "cell_type": "code",
      "source": [
        "# import graphviz\r\n",
        "# import pydot\r\n",
        "# from IPython.display import display\r\n",
        "\r\n",
        "# obj.visualizeGraph(pipeline)"
      ],
      "outputs": [],
      "execution_count": null,
      "metadata": {
        "jupyter": {
          "source_hidden": false,
          "outputs_hidden": false
        },
        "nteract": {
          "transient": {
            "deleting": false
          }
        }
      }
    },
    {
      "cell_type": "code",
      "source": [
        "obj.execute(state,pipeline,runID,triggerType)"
      ],
      "outputs": [],
      "execution_count": null,
      "metadata": {
        "jupyter": {
          "source_hidden": false,
          "outputs_hidden": false
        },
        "nteract": {
          "transient": {
            "deleting": false
          }
        }
      }
    },
    {
      "cell_type": "code",
      "source": [
        "mssparkutils.notebook.exit(\"\")"
      ],
      "outputs": [],
      "execution_count": null,
      "metadata": {
        "jupyter": {
          "source_hidden": false,
          "outputs_hidden": false
        },
        "nteract": {
          "transient": {
            "deleting": false
          }
        }
      }
    }
  ],
  "metadata": {
    "kernelspec": {
      "name": "synapse_pyspark",
      "display_name": "Synapse PySpark"
    },
    "language_info": {
      "name": "python"
    },
    "description": null,
    "save_output": true,
    "synapse_widget": {
      "version": "0.1",
      "state": {}
    }
  },
  "nbformat": 4,
  "nbformat_minor": 2
}