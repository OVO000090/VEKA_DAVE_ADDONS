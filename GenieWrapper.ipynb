{
  "cells": [
    {
      "cell_type": "markdown",
      "source": [
        "## Set Spark Configuration"
      ],
      "metadata": {
        "nteract": {
          "transient": {
            "deleting": false
          }
        }
      }
    },
    {
      "cell_type": "code",
      "source": [
        "%%configure\r\n",
        "// Do not execute this cell when running in any pool apart from geniemedium pool\r\n",
        "{\r\n",
        "    // You can get a list of valid parameters to config the session from https://github.com/cloudera/livy#request-body.\r\n",
        "    \"driverMemory\":\r\n",
        "    {\r\n",
        "        \"activityParameterName\": \"driverMemoryParameter\", \r\n",
        "        \"defaultValue\": \"56g\"\r\n",
        "    }, // Recommended values: [\"28g\", \"56g\", \"112g\", \"224g\", \"400g\", \"472g\"]\r\n",
        "    \"driverCores\":{\r\n",
        "        \"activityParameterName\": \"driverCoresParameter\", \r\n",
        "        \"defaultValue\": 8\r\n",
        "    }, // Recommended values: [4, 8, 16, 32, 64, 80]\r\n",
        "    \"executorMemory\":{\r\n",
        "        \"activityParameterName\": \"executorMemoryParameter\", \r\n",
        "        \"defaultValue\": \"56g\" \r\n",
        "    },\r\n",
        "    \"executorCores\":{\r\n",
        "        \"activityParameterName\": \"executorCoresParameter\", \r\n",
        "        \"defaultValue\": 8 \r\n",
        "    },\r\n",
        "    \"numExecutors\":{\r\n",
        "        \"activityParameterName\": \"numExecutorsParameter\", \r\n",
        "        \"defaultValue\": 3\r\n",
        "    }\r\n",
        "}"
      ],
      "outputs": [],
      "execution_count": null,
      "metadata": {
        "jupyter": {
          "source_hidden": false,
          "outputs_hidden": false
        },
        "nteract": {
          "transient": {
            "deleting": false
          }
        }
      }
    },
    {
      "cell_type": "markdown",
      "source": [
        "## Creating Global Views "
      ],
      "metadata": {
        "nteract": {
          "transient": {
            "deleting": false
          }
        }
      }
    },
    {
      "cell_type": "code",
      "source": [
        "# Placeholder for creating global views so they can be accessed by all notebooks"
      ],
      "outputs": [],
      "execution_count": null,
      "metadata": {
        "jupyter": {
          "source_hidden": false
        }
      }
    },
    {
      "cell_type": "markdown",
      "source": [
        "# Calling the framework"
      ],
      "metadata": {
        "nteract": {
          "transient": {
            "deleting": false
          }
        }
      }
    },
    {
      "cell_type": "code",
      "source": [
        "import SynapseGenie"
      ],
      "outputs": [
        {
          "output_type": "display_data",
          "data": {
            "application/vnd.livy.statement-meta+json": {
              "spark_pool": "hrsiadhocpool",
              "session_id": "1623",
              "statement_id": 10,
              "state": "finished",
              "livy_statement_state": "available",
              "queued_time": "2022-11-21T08:20:29.8218917Z",
              "session_start_time": null,
              "execution_start_time": "2022-11-21T08:21:42.2872967Z",
              "execution_finish_time": "2022-11-21T08:21:42.4602784Z",
              "spark_jobs": null
            },
            "text/plain": "StatementMeta(hrsiadhocpool, 1623, 10, Finished, Available)"
          },
          "metadata": {}
        }
      ],
      "execution_count": 15,
      "metadata": {
        "jupyter": {
          "source_hidden": false,
          "outputs_hidden": false
        },
        "nteract": {
          "transient": {
            "deleting": false
          }
        }
      }
    },
    {
      "cell_type": "code",
      "source": [
        "from SynapseGenie import genie_process_execution"
      ],
      "outputs": [
        {
          "output_type": "display_data",
          "data": {
            "application/vnd.livy.statement-meta+json": {
              "spark_pool": "hrsiadhocpool",
              "session_id": "1623",
              "statement_id": 11,
              "state": "finished",
              "livy_statement_state": "available",
              "queued_time": "2022-11-21T08:20:31.844444Z",
              "session_start_time": null,
              "execution_start_time": "2022-11-21T08:21:42.5657836Z",
              "execution_finish_time": "2022-11-21T08:21:45.6056454Z",
              "spark_jobs": null
            },
            "text/plain": "StatementMeta(hrsiadhocpool, 1623, 11, Finished, Available)"
          },
          "metadata": {}
        }
      ],
      "execution_count": 16,
      "metadata": {
        "jupyter": {
          "source_hidden": false,
          "outputs_hidden": false
        },
        "nteract": {
          "transient": {
            "deleting": false
          }
        }
      }
    },
    {
      "cell_type": "markdown",
      "source": [
        "# Parameters"
      ],
      "metadata": {
        "nteract": {
          "transient": {
            "deleting": false
          }
        }
      }
    },
    {
      "cell_type": "markdown",
      "source": [
        "The following parameters can be passed through a Synapse/ADF pipeline\r\n",
        "- state -> Denotes whether the framework should start from the beginning or restart from where it failed. Takes either of the two values - \"start\" and \"restart\" \\<String>\r\n",
        "- pipeline -> Name of the pipeline to be run in the framework. Case-sensitive and should be in the metadata table. \\<String>"
      ],
      "metadata": {
        "nteract": {
          "transient": {
            "deleting": false
          }
        }
      }
    },
    {
      "cell_type": "code",
      "source": [
        "state = \"start\"\r\n",
        "pipeline = \"sample_pipeline\""
      ],
      "outputs": [
        {
          "output_type": "display_data",
          "data": {
            "application/vnd.livy.statement-meta+json": {
              "spark_pool": "hrsiadhocpool",
              "session_id": "1623",
              "statement_id": 12,
              "state": "finished",
              "livy_statement_state": "available",
              "queued_time": "2022-11-21T08:20:35.4968992Z",
              "session_start_time": null,
              "execution_start_time": "2022-11-21T08:21:45.7348714Z",
              "execution_finish_time": "2022-11-21T08:21:45.9060257Z",
              "spark_jobs": null
            },
            "text/plain": "StatementMeta(hrsiadhocpool, 1623, 12, Finished, Available)"
          },
          "metadata": {}
        }
      ],
      "execution_count": 17,
      "metadata": {
        "jupyter": {
          "source_hidden": false,
          "outputs_hidden": false
        },
        "nteract": {
          "transient": {
            "deleting": false
          }
        },
        "tags": [
          "parameters"
        ]
      }
    },
    {
      "cell_type": "markdown",
      "source": [
        "- threads -> The maximum number of notebooks that can be run together in a pipeline or sub-pipeline. By default value is set to number of executor cores available. \\<integer>\r\n"
      ],
      "metadata": {
        "nteract": {
          "transient": {
            "deleting": false
          }
        }
      }
    },
    {
      "cell_type": "code",
      "source": [
        "# By default threads is set equal to the number of executor cores. \"threads\" variable can be tuned to a particular number depending on requirements\r\n",
        "import os\r\n",
        "threads = (sc._jsc.sc().getExecutorMemoryStatus().keySet().size()-1)*os.cpu_count() "
      ],
      "outputs": [
        {
          "output_type": "display_data",
          "data": {
            "application/vnd.livy.statement-meta+json": {
              "spark_pool": "hrsiadhocpool",
              "session_id": "1623",
              "statement_id": 13,
              "state": "finished",
              "livy_statement_state": "available",
              "queued_time": "2022-11-21T08:20:38.4296685Z",
              "session_start_time": null,
              "execution_start_time": "2022-11-21T08:21:46.0238085Z",
              "execution_finish_time": "2022-11-21T08:21:46.1968304Z",
              "spark_jobs": null
            },
            "text/plain": "StatementMeta(hrsiadhocpool, 1623, 13, Finished, Available)"
          },
          "metadata": {}
        }
      ],
      "execution_count": 18,
      "metadata": {
        "jupyter": {
          "source_hidden": false,
          "outputs_hidden": false
        },
        "nteract": {
          "transient": {
            "deleting": false
          }
        }
      }
    },
    {
      "cell_type": "markdown",
      "source": [
        "## Instantiating and Executing the framework"
      ],
      "metadata": {
        "nteract": {
          "transient": {
            "deleting": false
          }
        }
      }
    },
    {
      "cell_type": "code",
      "source": [
        "genie_obj = genie_process_execution.Genie(spark,mssparkutils.notebook,threads) #Creating the object of framework"
      ],
      "outputs": [
        {
          "output_type": "display_data",
          "data": {
            "application/vnd.livy.statement-meta+json": {
              "spark_pool": "hrsiadhocpool",
              "session_id": "1623",
              "statement_id": 14,
              "state": "finished",
              "livy_statement_state": "available",
              "queued_time": "2022-11-21T08:20:40.7510318Z",
              "session_start_time": null,
              "execution_start_time": "2022-11-21T08:21:46.3183811Z",
              "execution_finish_time": "2022-11-21T08:21:46.6210125Z",
              "spark_jobs": null
            },
            "text/plain": "StatementMeta(hrsiadhocpool, 1623, 14, Finished, Available)"
          },
          "metadata": {}
        }
      ],
      "execution_count": 19,
      "metadata": {
        "jupyter": {
          "source_hidden": false,
          "outputs_hidden": false
        },
        "nteract": {
          "transient": {
            "deleting": false
          }
        }
      }
    },
    {
      "cell_type": "code",
      "source": [
        "genie_obj.execute(state,pipeline)"
      ],
      "outputs": [
        {
          "output_type": "display_data",
          "data": {
            "application/vnd.livy.statement-meta+json": {
              "spark_pool": "hrsiadhocpool",
              "session_id": "1623",
              "statement_id": 16,
              "state": "submitted",
              "livy_statement_state": "running",
              "queued_time": "2022-11-21T08:44:37.077464Z",
              "session_start_time": null,
              "execution_start_time": "2022-11-21T08:44:37.2137741Z",
              "execution_finish_time": null,
              "spark_jobs": null
            },
            "text/plain": "StatementMeta(hrsiadhocpool, 1623, 16, Submitted, Running)"
          },
          "metadata": {}
        },
        {
          "output_type": "stream",
          "name": "stdout",
          "text": [
            "Current RunID = d8c27a66-7ca7-4319-a5f2-1feac07aee33\nExecution of common_conformeddims started\n[2022-11-21 14:15:27.055022+05:30] Execution of cooked_dimPerson_par started\nCurrent RunID = d8c27a66-7ca7-4319-a5f2-1feac07aee33\nExecution of common_conformeddims started\n[2022-11-21 14:15:27.055022+05:30] Execution of cooked_dimPerson_par started\n"
          ]
        },
        {
          "output_type": "display_data",
          "data": {
            "application/vnd.synapse.mssparkutilsrun-result+json": {
              "run_id": "89846bd6-b57e-4d09-9a27-c9f86572332d",
              "in_pipeline": false,
              "notebook_name": "cooked_dimPerson_par",
              "snapshot_path": "/runNotebookApi/versions/1/run/89846bd6-b57e-4d09-9a27-c9f86572332d/snapshot",
              "error": null,
              "session_id": "1623",
              "spark_pool": "hrsiadhocpool"
            }
          },
          "metadata": {}
        },
        {
          "output_type": "stream",
          "name": "stdout",
          "text": [
            "[2022-11-21 14:25:58.090802+05:30] Execution of cooked_dimPerson_par failed\n[2022-11-21 14:26:11.328286+05:30] Execution of cooked_dimPerson_par started\n"
          ]
        }
      ],
      "execution_count": 21,
      "metadata": {
        "jupyter": {
          "source_hidden": false,
          "outputs_hidden": false
        },
        "nteract": {
          "transient": {
            "deleting": false
          }
        }
      }
    },
    {
      "cell_type": "markdown",
      "source": [
        "### View Metadata"
      ],
      "metadata": {
        "nteract": {
          "transient": {
            "deleting": false
          }
        }
      }
    },
    {
      "cell_type": "code",
      "source": [
        "%%sql\r\n",
        "select * from genie.metadata"
      ],
      "outputs": [],
      "execution_count": null,
      "metadata": {
        "jupyter": {
          "source_hidden": false,
          "outputs_hidden": false
        },
        "nteract": {
          "transient": {
            "deleting": false
          }
        },
        "microsoft": {
          "language": "sparksql"
        }
      }
    },
    {
      "cell_type": "markdown",
      "source": [
        "### Visualizing the Graph"
      ],
      "metadata": {
        "nteract": {
          "transient": {
            "deleting": false
          }
        }
      }
    },
    {
      "cell_type": "code",
      "source": [
        "# if not present in requirements.yml file for pool, run the following commands, otherwise proceed to the next cell\r\n",
        "# conda install -y graphviz \r\n",
        "# pip install pydot\r\n",
        "# pip install graphviz"
      ],
      "outputs": [],
      "execution_count": 6,
      "metadata": {
        "jupyter": {
          "source_hidden": false,
          "outputs_hidden": false
        },
        "nteract": {
          "transient": {
            "deleting": false
          }
        }
      }
    },
    {
      "cell_type": "code",
      "source": [
        "# import graphviz\r\n",
        "# import pydot\r\n",
        "# from IPython.display import display\r\n",
        "\r\n",
        "# obj.visualizeGraph(pipeline)"
      ],
      "outputs": [],
      "execution_count": 20,
      "metadata": {
        "jupyter": {
          "source_hidden": false,
          "outputs_hidden": false
        },
        "nteract": {
          "transient": {
            "deleting": false
          }
        }
      }
    },
    {
      "cell_type": "code",
      "source": [
        "mssparkutils.notebook.exit()"
      ],
      "outputs": [],
      "execution_count": null,
      "metadata": {
        "jupyter": {
          "source_hidden": false,
          "outputs_hidden": false
        },
        "nteract": {
          "transient": {
            "deleting": false
          }
        }
      }
    }
  ],
  "metadata": {
    "kernelspec": {
      "name": "synapse_pyspark",
      "language": "Python",
      "display_name": "Synapse PySpark"
    },
    "language_info": {
      "name": "python"
    },
    "kernel_info": {
      "name": "synapse_pyspark"
    },
    "save_output": true,
    "synapse_widget": {
      "version": "0.1",
      "state": {}
    }
  },
  "nbformat": 4,
  "nbformat_minor": 2
}