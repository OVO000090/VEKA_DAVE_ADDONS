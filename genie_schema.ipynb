{
  "cells": [
    {
      "cell_type": "code",
      "source": [
        "%%spark\r\n",
        "val fs = org.apache.hadoop.fs.FileSystem.get(sc.hadoopConfiguration)\r\n",
        "if( fs.exists(new org.apache.hadoop.fs.Path(<<ADD YOUR PATH>>)) ) {\r\n",
        "    mssparkutils.fs.rm(<<ADD YOUR PATH>>, recurse=true)\r\n",
        "}"
      ],
      "outputs": [],
      "execution_count": null,
      "metadata": {
        "microsoft": {
          "language": "scala"
        }
      }
    },
    {
      "cell_type": "code",
      "source": [
        "%%sql\r\n",
        "CREATE TABLE IF NOT EXISTS genie.metadata(\r\n",
        "\tid string,\r\n",
        "\tname string ,\r\n",
        "    dependencies string,\r\n",
        "    params string,\r\n",
        "\tpipeline string,\r\n",
        "\ttype integer,\r\n",
        "\ttimeout string,\r\n",
        "\tretry string,\r\n",
        "    retryIntervalInSeconds string,\r\n",
        "\tisActive boolean\t\r\n",
        ") USING DELTA\r\n",
        "LOCATION <<ADD YOUR PATH>>;"
      ],
      "outputs": [],
      "execution_count": null,
      "metadata": {
        "jupyter": {
          "source_hidden": false,
          "outputs_hidden": false
        },
        "nteract": {
          "transient": {
            "deleting": false
          }
        },
        "microsoft": {
          "language": "sparksql"
        }
      }
    },
    {
      "cell_type": "code",
      "source": [
        "%%spark\r\n",
        "val fs = org.apache.hadoop.fs.FileSystem.get(sc.hadoopConfiguration)\r\n",
        "if( fs.exists(new org.apache.hadoop.fs.Path(<<ADD YOUR PATH>>)) ) {\r\n",
        "    mssparkutils.fs.rm(<<ADD YOUR PATH>>, recurse=true)\r\n",
        "}"
      ],
      "outputs": [],
      "execution_count": null,
      "metadata": {
        "jupyter": {
          "source_hidden": false,
          "outputs_hidden": false
        },
        "nteract": {
          "transient": {
            "deleting": false
          }
        },
        "microsoft": {
          "language": "scala"
        }
      }
    },
    {
      "cell_type": "code",
      "source": [
        "%%sql\r\n",
        "CREATE TABLE IF NOT EXISTS genie.log(\r\n",
        "\tPipelineRunID string,\r\n",
        "\tID string,\r\n",
        "\tStatus string,\r\n",
        "\tStart string,\r\n",
        "\tEnd string,\r\n",
        "\tExecutionMsg string,\r\n",
        "\tType string\r\n",
        ") USING DELTA\r\n",
        "LOCATION <<ADD YOUR PATH>>;"
      ],
      "outputs": [],
      "execution_count": null,
      "metadata": {
        "jupyter": {
          "source_hidden": false,
          "outputs_hidden": false
        },
        "nteract": {
          "transient": {
            "deleting": false
          }
        },
        "microsoft": {
          "language": "sparksql"
        }
      }
    }
  ],
  "metadata": {
    "kernelspec": {
      "name": "synapse_sparksql",
      "display_name": "sql"
    },
    "language_info": {
      "name": "sql"
    },
    "save_output": true,
    "synapse_widget": {
      "version": "0.1",
      "state": {}
    }
  },
  "nbformat": 4,
  "nbformat_minor": 2
}
