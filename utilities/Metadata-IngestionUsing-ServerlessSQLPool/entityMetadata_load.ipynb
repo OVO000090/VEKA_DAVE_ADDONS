{
  "nbformat": 4,
  "nbformat_minor": 2,
  "metadata": {
    "kernelspec": {
      "name": "synapse_pyspark",
      "display_name": "python"
    },
    "language_info": {
      "name": "python"
    },
    "description": null,
    "save_output": true,
    "synapse_widget": {
      "version": "0.1",
      "state": {}
    }
  },
  "cells": [
    {
      "cell_type": "code",
      "execution_count": null,
      "outputs": [],
      "metadata": {
        "microsoft": {
          "language": "scala"
        }
      },
      "source": [
        "%%spark\r\n",
        "import com.elastacloud.spark.excel._\r\n",
        "\r\n",
        "val lakeMetadtaDF = spark.read.format(\"excel\").load(\"/data/metadata/OneHRSI_Metadata.xlsx\")\r\n",
        "lakeMetadtaDF.createOrReplaceTempView(\"vw_lakeMetadtaDF\")"
      ]
    },
    {
      "cell_type": "code",
      "execution_count": null,
      "outputs": [],
      "metadata": {
        "jupyter": {
          "source_hidden": false,
          "outputs_hidden": false
        },
        "nteract": {
          "transient": {
            "deleting": false
          }
        },
        "microsoft": {
          "language": "sparksql"
        }
      },
      "source": [
        "%%sql\r\n",
        "MERGE INTO metadata.entitymetadata AS Target\r\n",
        "USING vw_lakeMetadtaDF  AS Source\r\n",
        "ON Target.EntityId = Source.Entityid\r\n",
        "\r\n",
        "WHEN NOT MATCHED THEN\r\n",
        "INSERT (EntityId,\r\n",
        "        LayerProcessing,\r\n",
        "        SRC_EntityName,\r\n",
        "        SRC_System,\r\n",
        "        SRC_Type,\r\n",
        "        SRC_Server,\r\n",
        "        SRC_Database,\r\n",
        "        ConsumptionType,\r\n",
        "        Sequence,\r\n",
        "        PrimaryKey,\r\n",
        "        DeltaColumn,\r\n",
        "        SourceQuery,\r\n",
        "        FilterCondition,\r\n",
        "        SourceBaseFilePath,\r\n",
        "        SourceFilePath,\r\n",
        "        TargetBaseFilePath,\r\n",
        "        TargetFilePath,\r\n",
        "        NotebookPath,\r\n",
        "        TargetDataBase,\r\n",
        "        TargetTableName,\r\n",
        "        IsActive,\r\n",
        "        LastRefreshDateTime,\r\n",
        "        Status,\r\n",
        "        Project,\r\n",
        "        CreatedBy,\r\n",
        "        CreatedDate,\r\n",
        "        ModifiedBy,\r\n",
        "        ModifiedDate,\r\n",
        "        DeltaDataPullFromDate,\r\n",
        "        DeltaDataPullToDate,\r\n",
        "        SourceConnectionKeyVaultSecret,\r\n",
        "        IsDeltaTableRequired)\r\n",
        "VALUES \t\r\n",
        "    (Source.EntityId,\r\n",
        "\tSource.LayerProcessing,\r\n",
        "\tSource.SRC_EntityName ,\r\n",
        "\tSource.SRC_System ,\r\n",
        "\tSource.SRC_Type ,\r\n",
        "\tSource.SRC_Server,\r\n",
        "\tSource.SRC_Database,\r\n",
        "\tSource.ConsumptionType,\r\n",
        "\tSource.Sequence,\r\n",
        "\tSource.PrimaryKey,\r\n",
        "\tSource.DeltaColumn,\r\n",
        "\tSource.SourceQuery,\r\n",
        "\tSource.FilterCondition,\r\n",
        "\tSource.SourceBaseFilePath,\r\n",
        "\tSource.SourceFilePath,\r\n",
        "\tSource.TargetBaseFilePath,\r\n",
        "\tSource.TargetFilePath,\r\n",
        "\tSource.NotebookPath,\r\n",
        "\tSource.TargetDataBase,\r\n",
        "\tSource.TargetTableName,\r\n",
        "\tSource.IsActive,\r\n",
        "\tSource.LastRefreshDateTime,\r\n",
        "\tSource.Status,\r\n",
        "\tSource.Project,\r\n",
        "\tSource.CreatedBy,\r\n",
        "\tCAST(Source.CreatedDate AS Date),\r\n",
        "\tModifiedBy,\r\n",
        "\tCAST(Source.ModifiedDate AS Date),\r\n",
        "\tCAST(Source.DeltaDataPullFromDate AS Date),\r\n",
        "\tCAST(Source.DeltaDataPullToDate AS Date),\r\n",
        "\tSource.SourceConnectionKeyVaultSecret,\r\n",
        "    Source.IsDeltaTableRequired)"
      ]
    }
  ]
}