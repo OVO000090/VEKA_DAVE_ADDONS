{
  "nbformat": 4,
  "nbformat_minor": 2,
  "metadata": {
    "kernelspec": {
      "name": "synapse_sparksql",
      "display_name": "sql"
    },
    "language_info": {
      "name": "sql"
    },
    "description": null,
    "save_output": true,
    "synapse_widget": {
      "version": "0.1",
      "state": {}
    }
  },
  "cells": [
    {
      "cell_type": "code",
      "execution_count": null,
      "outputs": [],
      "metadata": {
        "microsoft": {
          "language": "sparksql"
        }
      },
      "source": [
        "%%sql\r\n",
        "CREATE DATABASE IF NOT EXISTS Metadata;\r\n",
        "DROP Table IF EXISTS Metadata.entityMetadata;"
      ]
    },
    {
      "cell_type": "code",
      "execution_count": null,
      "outputs": [],
      "metadata": {
        "jupyter": {
          "source_hidden": false,
          "outputs_hidden": false
        },
        "nteract": {
          "transient": {
            "deleting": false
          }
        },
        "microsoft": {
          "language": "scala"
        }
      },
      "source": [
        "%%spark\r\n",
        "val fs = org.apache.hadoop.fs.FileSystem.get(sc.hadoopConfiguration)\r\n",
        "if(fs.exists(new org.apache.hadoop.fs.Path(\"/data/common/metadata/entityMetadata\"))) {\r\n",
        "    mssparkutils.fs.rm(\"/data/common/metadata/entityMetadata\", recurse=true)\r\n",
        "}"
      ]
    },
    {
      "cell_type": "code",
      "execution_count": null,
      "outputs": [],
      "metadata": {
        "jupyter": {
          "source_hidden": false,
          "outputs_hidden": false
        },
        "nteract": {
          "transient": {
            "deleting": false
          }
        },
        "microsoft": {
          "language": "sparksql"
        },
        "collapsed": false
      },
      "source": [
        "%%sql\r\n",
        "CREATE TABLE metadata.entityMetadata(\r\n",
        "\tEntityId int ,\r\n",
        "\tLayerProcessing string ,\r\n",
        "\tSRC_EntityName string  ,\r\n",
        "\tSRC_System string  ,\r\n",
        "\tSRC_Type string  ,\r\n",
        "\tSRC_Server string ,\r\n",
        "\tSRC_Database string ,\r\n",
        "\tConsumptionType string ,\r\n",
        "\tSequence int ,\r\n",
        "\tPrimaryKey string ,\r\n",
        "\tDeltaColumn string ,\r\n",
        "\tSourceQuery string ,\r\n",
        "\tFilterCondition string ,\r\n",
        "\tSourceBaseFilePath string ,\r\n",
        "\tSourceFilePath string ,\r\n",
        "\tTargetBaseFilePath string ,\r\n",
        "\tTargetFilePath string ,\r\n",
        "\tNotebookPath string ,\r\n",
        "\tTargetDataBase string ,\r\n",
        "\tTargetTableName string ,\r\n",
        "\tIsActive boolean  ,\r\n",
        "\tLastRefreshDateTime timestamp ,\r\n",
        "\tStatus string ,\r\n",
        "\tProject string ,\r\n",
        "\tCreatedBy string ,\r\n",
        "\tCreatedDate timestamp ,\r\n",
        "\tModifiedBy string ,\r\n",
        "\tModifiedDate date ,\r\n",
        "\tDeltaDataPullFromDate date ,\r\n",
        "\tDeltaDataPullToDate date,\r\n",
        "\tSourceConnectionKeyVaultSecret string,\r\n",
        "\tIsDeltaTableRequired boolean\r\n",
        "\t)USING DELTA\r\n",
        "LOCATION \"/data/common/metadata/entityMetadata\""
      ]
    }
  ]
}